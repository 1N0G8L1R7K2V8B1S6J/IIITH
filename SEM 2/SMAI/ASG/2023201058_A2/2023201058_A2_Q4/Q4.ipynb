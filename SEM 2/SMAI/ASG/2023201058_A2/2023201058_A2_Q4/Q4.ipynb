{
  "cells": [
    {
      "cell_type": "markdown",
      "metadata": {
        "id": "lvpf93Fv9Hlk"
      },
      "source": [
        "# SMAI Assignment - 2\n",
        "\n",
        "## Question 4: Multi-layer Perceptrons\n",
        "\n",
        "### Digit Classification\n",
        "\n",
        "In this question, you will perform digit classification using MLP. You can use the MLPClassifier from sklearn. Train and two test sets have been provided [here](https://drive.google.com/drive/folders/1OUVrOMp2jSSBDJSqvEyXDFTrhiyZnqit?usp=sharing). Report the accuracy and any other interesting observations."
      ]
    },
    {
      "cell_type": "code",
      "execution_count": 91,
      "metadata": {
        "id": "G-MpagLl-YJp"
      },
      "outputs": [],
      "source": [
        "import numpy as np\n",
        "import h5py\n",
        "from collections import Counter\n",
        "from sklearn.neural_network import MLPClassifier\n",
        "import matplotlib.pyplot as plt\n",
        "from sklearn.model_selection import cross_val_score, KFold, GridSearchCV, train_test_split\n",
        "from sklearn.preprocessing import StandardScaler\n",
        "from sklearn.metrics import accuracy_score, classification_report"
      ]
    },
    {
      "cell_type": "code",
      "source": [
        "# train = h5py.File(\"training_3digits.hdf5\",'r')\n",
        "# test1 = h5py.File(\"testing_3digits_part1.hdf5\",'r')\n",
        "# test2 = h5py.File(\"testing_3digits_part2.hdf5\",'r')\n",
        "\n",
        "# !gdown 1p0d4F4BZI_4rx0m3mGf8n93RZNxzDL1J\n",
        "# !gdown 1YrJJKVDXeJbO3jpgtP_dWXC1A9uMKDo7\n",
        "# !gdown 1RZTYmuDfbGLQlZPlpUHMTKoPxLmP3I9u\n",
        "train = h5py.File(\"/content/training_3digits.hdf5\",'r')\n",
        "test1 = h5py.File(\"/content/testing_3digits_part1.hdf5\",'r')\n",
        "test2 = h5py.File(\"/content/testing_3digits_part2.hdf5\",'r')"
      ],
      "metadata": {
        "id": "mV08nXEXsWp0"
      },
      "execution_count": 92,
      "outputs": []
    },
    {
      "cell_type": "code",
      "source": [
        "train_images = np.array(train['images'])\n",
        "train_digits = np.array(train['digits'])\n",
        "print(train_images.shape)\n",
        "print(train_digits.shape)\n",
        "train.close()\n",
        "# gray_train_images = np.dot(train_images[...,:3], [0.2989, 0.5870, 0.1140])\n",
        "gray_train_images = np.all(train_images, axis=-1)\n",
        "# print(gray_train_images.shape)\n",
        "train_digits_dict = dict(Counter(train_digits))\n",
        "print(train_digits_dict)"
      ],
      "metadata": {
        "colab": {
          "base_uri": "https://localhost:8080/"
        },
        "id": "YK24sPMEsZMQ",
        "outputId": "b5e9aaf5-8fa1-49b8-e4d6-e0c6364b7b0e"
      },
      "execution_count": 93,
      "outputs": [
        {
          "output_type": "stream",
          "name": "stdout",
          "text": [
            "(2726, 28, 28, 3)\n",
            "(2726,)\n",
            "{2: 858, 1: 1000, 0: 868}\n"
          ]
        }
      ]
    },
    {
      "cell_type": "code",
      "source": [
        "test_images_1 = np.array(test1['images'])\n",
        "test_digits_1 = np.array(test1['digits'])\n",
        "print(test_images_1.shape)\n",
        "print(test_digits_1.shape)\n",
        "test1.close()\n",
        "# gray_test_images_1 = np.dot(test_images_1[...,:3], [0.2989, 0.5870, 0.1140])\n",
        "gray_test_images_1 = np.all(test_images_1, axis=-1)\n",
        "# print(gray_test_images_1.shape)\n",
        "test_digits_1_dict = dict(Counter(test_digits_1))\n",
        "print(test_digits_1_dict)"
      ],
      "metadata": {
        "colab": {
          "base_uri": "https://localhost:8080/"
        },
        "id": "24bxfhzkskf9",
        "outputId": "20e3495a-dd90-4647-d9f3-5e0c7e1ebbab"
      },
      "execution_count": 94,
      "outputs": [
        {
          "output_type": "stream",
          "name": "stdout",
          "text": [
            "(3147, 28, 28, 3)\n",
            "(3147,)\n",
            "{2: 1032, 1: 1135, 0: 980}\n"
          ]
        }
      ]
    },
    {
      "cell_type": "code",
      "execution_count": 95,
      "metadata": {
        "id": "cHAbz92352gz",
        "colab": {
          "base_uri": "https://localhost:8080/"
        },
        "outputId": "8bc32dd7-a3f2-4602-e32a-4a4e30c36711"
      },
      "outputs": [
        {
          "output_type": "stream",
          "name": "stdout",
          "text": [
            "(3147, 28, 28, 3)\n",
            "(3147,)\n",
            "{2: 1032, 1: 1135, 0: 980}\n"
          ]
        }
      ],
      "source": [
        "test_images_2 = np.array(test2['images'])\n",
        "test_digits_2 = np.array(test2['digits'])\n",
        "print(test_images_2.shape)\n",
        "print(test_digits_2.shape)\n",
        "test2.close()\n",
        "# gray_test_images_2 = np.dot(1-test_images_2[...,:3], [0.2989, 0.5870, 0.1140])\n",
        "gray_test_images_2 = 1-np.all(test_images_2, axis=-1)\n",
        "# print(gray_test_images_2.shape)\n",
        "test_digits_2_dict = dict(Counter(test_digits_2))\n",
        "print(test_digits_2_dict)"
      ]
    },
    {
      "cell_type": "code",
      "execution_count": 112,
      "metadata": {
        "id": "5MLBdrs65woF",
        "colab": {
          "base_uri": "https://localhost:8080/",
          "height": 338
        },
        "outputId": "b6355646-cdbc-465c-e8b0-e4bf452dac02"
      },
      "outputs": [
        {
          "output_type": "display_data",
          "data": {
            "text/plain": [
              "<Figure size 1500x1500 with 15 Axes>"
            ],
            "image/png": "[encoded data removed]"
          },
          "metadata": {}
        },
        {
          "output_type": "display_data",
          "data": {
            "text/plain": [
              "<Figure size 1500x1500 with 15 Axes>"
            ],
            "image/png": "[encoded data removed]"
          },
          "metadata": {}
        },
        {
          "output_type": "display_data",
          "data": {
            "text/plain": [
              "<Figure size 1500x1500 with 15 Axes>"
            ],
            "image/png": "[encoded data removed]"
          },
          "metadata": {}
        }
      ],
      "source": [
        "\n",
        "# # Visualize a few sample images\n",
        "\n",
        "\n",
        "# # Generate 5 random indices\n",
        "# random_indices = [572,577,580,581,585,1111,1112,1115,1122,1125,2472,2481,2482,2485,2487]\n",
        "random_indices = np.random.randint(0, len(train_images), size=15)\n",
        "# Visualize the random images\n",
        "plt.figure(figsize=(15, 15))\n",
        "for i, idx in enumerate(random_indices):\n",
        "    plt.subplot(1, 15, i + 1)\n",
        "    plt.imshow(train_images[idx])\n",
        "    plt.title(f\"Digit: {train_digits[idx]}\")\n",
        "    plt.axis('off')\n",
        "\n",
        "# Generate 5 random indices\n",
        "random_indices = np.random.randint(0, len(test_images_1), size=15)\n",
        "# random_indices = [1000, 2000, 3000]\n",
        "\n",
        "# Visualize the random images\n",
        "plt.figure(figsize=(15, 15))\n",
        "for i, idx in enumerate(random_indices):\n",
        "    plt.subplot(1, 15, i + 1)\n",
        "    plt.imshow(test_images_1[idx])\n",
        "    plt.title(f\"Digit: {test_digits_1[idx]}\")\n",
        "    plt.axis('off')\n",
        "\n",
        "# Generate 5 random indices\n",
        "random_indices = np.random.randint(0, len(test_images_2), size=15)\n",
        "array_3d = np.ones((28, 28, 3))\n",
        "# Visualize the random images\n",
        "plt.figure(figsize=(15, 15))\n",
        "for i, idx in enumerate(random_indices):\n",
        "    plt.subplot(1, 15, i + 1)\n",
        "    plt.imshow(test_images_2[idx])\n",
        "    plt.title(f\"Digit: {test_digits_2[idx]}\")\n",
        "    plt.axis('off')\n",
        "    # np.where(image == color1, color2, np.where(image == color2, color1, image))\n",
        "\n",
        "# # Generate 5 random indices\n",
        "# random_indices = np.random.randint(0, len(gray_test_images_1), size=15)\n",
        "# # Visualize the random images\n",
        "# plt.figure(figsize=(15, 15))\n",
        "# for i, idx in enumerate(random_indices):\n",
        "#     plt.subplot(1, 15, i + 1)\n",
        "#     plt.imshow(gray_test_images_1[idx])\n",
        "#     plt.title(f\"Digit: {test_digits_1[idx]}\")\n",
        "#     plt.axis('off')\n",
        "\n",
        "# # Generate 5 random indices\n",
        "# random_indices = np.random.randint(0, len(gray_test_images_2), size=15)\n",
        "# # array_3d = np.ones((28, 28, 3))\n",
        "# # Visualize the random images\n",
        "# plt.figure(figsize=(15, 15))\n",
        "# for i, idx in enumerate(random_indices):\n",
        "#     plt.subplot(1, 15, i + 1)\n",
        "#     plt.imshow(gray_test_images_2[idx])\n",
        "#     plt.title(f\"Digit: {test_digits_2[idx]}\")\n",
        "#     plt.axis('off')\n",
        "\n",
        "# print(gray_test_images_1[0], gray_test_images_2[0])\n",
        "# for i in [572, 1111, 2472]:\n",
        "    # print(train_images[i][0][0])\n",
        "    # print(test_images_1[i][0][0])\n",
        "    # print(test_images_2[i][0][0])"
      ]
    },
    {
      "cell_type": "code",
      "source": [
        "# plt.imshow(np.dot(train_images[1][..., :3], [0.2989, 0.5870, 0.1140]))"
      ],
      "metadata": {
        "id": "1Bugr9Bz0ckL"
      },
      "execution_count": 97,
      "outputs": []
    },
    {
      "cell_type": "code",
      "source": [
        "# plt.imshow(np.dot(test_images_1[2][..., :3], [0.2989, 0.5870, 0.1140]))\n",
        "# plt.imshow(test_images_1[2])\n",
        "# print(test_images_1[2][14])"
      ],
      "metadata": {
        "id": "mWQz27_o8Glz"
      },
      "execution_count": 98,
      "outputs": []
    },
    {
      "cell_type": "code",
      "source": [
        "# plt.imshow(np.dot(1-test_images_2[2][..., :3], [0.2989, 0.5870, 0.1140]))\n",
        "# plt.imshow(1-test_images_2[2])\n",
        "# print(test_images_2[2][14])"
      ],
      "metadata": {
        "id": "vJG5Ykn88Goo"
      },
      "execution_count": 99,
      "outputs": []
    },
    {
      "cell_type": "code",
      "source": [
        "# print(set(train_digits))\n",
        "# print(set(test_digits_1))\n",
        "# print(set(test_digits_2))"
      ],
      "metadata": {
        "id": "_66JtlCTz9Df"
      },
      "execution_count": 100,
      "outputs": []
    },
    {
      "cell_type": "code",
      "source": [
        "\n",
        "# # Visualize a few sample images\n",
        "# # Generate 5 random indices\n",
        "# random_indices = np.random.randint(0, len(gray_train_images), size=15)\n",
        "\n",
        "# # Visualize the random images\n",
        "# plt.figure(figsize=(15, 15))\n",
        "# for i, idx in enumerate(random_indices):\n",
        "#     plt.subplot(1, 15, i + 1)\n",
        "#     plt.imshow(gray_train_images[idx])\n",
        "#     plt.title(f\"Digit: {train_digits[idx]}\")\n",
        "#     plt.axis('off')\n",
        "\n",
        "# # Generate 5 random indices\n",
        "# random_indices = np.random.randint(0, len(gray_test_images_1), size=15)\n",
        "\n",
        "# # Visualize the random images\n",
        "# plt.figure(figsize=(15, 15))\n",
        "# for i, idx in enumerate(random_indices):\n",
        "#     plt.subplot(1, 15, i + 1)\n",
        "#     plt.imshow(gray_test_images_1[idx])\n",
        "#     plt.title(f\"Digit: {test_digits_1[idx]}\")\n",
        "#     plt.axis('off')\n",
        "\n",
        "# # Generate 5 random indices\n",
        "# random_indices = np.random.randint(0, len(gray_test_images_2), size=15)\n",
        "# # array_3d = np.ones((28, 28, 3))\n",
        "# # Visualize the random images\n",
        "# plt.figure(figsize=(15, 15))\n",
        "# for i, idx in enumerate(random_indices):\n",
        "#     plt.subplot(1, 15, i + 1)\n",
        "#     plt.imshow(gray_test_images_2[idx])\n",
        "#     plt.title(f\"Digit: {test_digits_2[idx]}\")\n",
        "#     plt.axis('off')"
      ],
      "metadata": {
        "id": "N25hWBPvv5ZZ"
      },
      "execution_count": 101,
      "outputs": []
    },
    {
      "cell_type": "code",
      "source": [
        "# Flatten the images\n",
        "gray_train_images_flat = gray_train_images.reshape(gray_train_images.shape[0], -1)\n",
        "gray_test_images_1_flat = gray_test_images_1.reshape(gray_test_images_1.shape[0], -1)\n",
        "gray_test_images_2_flat = gray_test_images_2.reshape(gray_test_images_2.shape[0], -1)\n",
        "\n",
        "train_images_flat = train_images.reshape(train_images.shape[0], -1)\n",
        "test_images_1_flat = test_images_1.reshape(test_images_1.shape[0], -1)\n",
        "test_images_2_flat = test_images_2.reshape(test_images_2.shape[0], -1)"
      ],
      "metadata": {
        "id": "8k-aJmbZqZYX"
      },
      "execution_count": 102,
      "outputs": []
    },
    {
      "cell_type": "code",
      "source": [
        "# Hyperparameter tuning using GridSearchCV\n",
        "# param_grid = {\n",
        "#     'hidden_layer_sizes': [(50,), (100,), (200,), (50, 50), (100, 50)],\n",
        "#     'alpha': [0.0001, 0.001, 0.01, 0.1],\n",
        "#     'learning_rate_init': [0.0001, 0.001, 0.01, 0.1],\n",
        "#     'activation': ['relu', 'tanh']\n",
        "# }\n",
        "# param_grid = {\n",
        "#     'hidden_layer_sizes': [(120,80,40)],\n",
        "# }\n",
        "param_grid = {\n",
        "    'hidden_layer_sizes': [(3)],\n",
        "}\n",
        "# Best hyperparameters: {'activation': 'relu', 'hidden_layer_sizes': (120, 80, 40), 'max_iter': 300}\n",
        "# Initialize and train the MLPClassifier\n",
        "mlp = MLPClassifier(solver='sgd', early_stopping=True)\n",
        "grid_search = GridSearchCV(mlp, param_grid, scoring='accuracy', verbose=5)\n",
        "\n",
        "# # Perform cross-validation on the training data\n",
        "# kf = KFold(n_splits=10, shuffle=True, random_state=42)\n",
        "# cv_scores = cross_val_score(mlp, train_images_flat, train_digits, cv=kf, scoring='accuracy')\n",
        "\n",
        "# print(\"Cross-Validation Scores:\", cv_scores)\n",
        "# print(\"Mean Accuracy:\", np.mean(cv_scores))\n",
        "\n",
        "# mlp.fit(train_images_flat, train_digits)\n",
        "\n",
        "# # Evaluate on the first test set\n",
        "# predictions_1 = mlp.predict(test_images_1_flat)\n",
        "# accuracy_1 = accuracy_score(test_digits_1, predictions_1)\n",
        "# print(\"Accuracy on test set 1:\", accuracy_1)\n",
        "\n",
        "# # Evaluate on the second test set\n",
        "# predictions_2 = mlp.predict(test_images_2_flat)\n",
        "# accuracy_2 = accuracy_score(test_digits_2, predictions_2)\n",
        "# print(\"Accuracy on test set 2:\", accuracy_2)\n",
        "\n",
        "\n",
        "# train_images_flat1, _, train_digits1, _ = train_test_split(train_images_flat, train_digits, test_size=0.000000001, random_state=42)\n",
        "grid_search.fit(train_images_flat, train_digits)\n",
        "\n",
        "# Print the best hyperparameters\n",
        "print(\"Best hyperparameters:\", grid_search.best_params_)\n",
        "\n",
        "# Evaluate on the first test set using the best model\n",
        "best_model = grid_search\n",
        "predictions_1 = best_model.predict(test_images_1_flat)\n",
        "accuracy_1 = accuracy_score(test_digits_1, predictions_1)\n",
        "print(\"Accuracy on test set 1:\", accuracy_1)\n",
        "\n",
        "# Evaluate on the second test set using the best model\n",
        "predictions_2 = best_model.predict(test_images_2_flat)\n",
        "accuracy_2 = accuracy_score(test_digits_2, predictions_2)\n",
        "print(\"Accuracy on test set 2:\", accuracy_2)"
      ],
      "metadata": {
        "colab": {
          "base_uri": "https://localhost:8080/"
        },
        "id": "GU7dPuiRfwHW",
        "outputId": "9c0ac3ce-ed8c-4b3c-af31-5632e27d5273"
      },
      "execution_count": 110,
      "outputs": [
        {
          "output_type": "stream",
          "name": "stdout",
          "text": [
            "Fitting 5 folds for each of 1 candidates, totalling 5 fits\n",
            "[CV 1/5] END ..............hidden_layer_sizes=3;, score=0.626 total time=   0.4s\n",
            "[CV 2/5] END ..............hidden_layer_sizes=3;, score=0.666 total time=   0.5s\n",
            "[CV 3/5] END ..............hidden_layer_sizes=3;, score=0.998 total time=   0.3s\n",
            "[CV 4/5] END ..............hidden_layer_sizes=3;, score=0.319 total time=   0.3s\n",
            "[CV 5/5] END ..............hidden_layer_sizes=3;, score=0.624 total time=   0.3s\n",
            "Best hyperparameters: {'hidden_layer_sizes': 3}\n",
            "Accuracy on test set 1: 0.9987289482046393\n",
            "Accuracy on test set 2: 0.4369240546552272\n"
          ]
        }
      ]
    },
    {
      "cell_type": "code",
      "source": [
        "for i in test_digits_2:\n",
        "    print(i, end=', ')\n",
        "print()\n",
        "for i in predictions_2:\n",
        "    print(i, end=', ')"
      ],
      "metadata": {
        "colab": {
          "base_uri": "https://localhost:8080/"
        },
        "id": "MzKmO4NTCI71",
        "outputId": "545ee626-8364-4bd0-d86c-3f1f2b1d1e77"
      },
      "execution_count": 111,
      "outputs": [
        {
          "output_type": "stream",
          "name": "stdout",
          "text": [
            "2, 2, 2, 2, 2, 2, 2, 2, 2, 2, 2, 2, 2, 2, 2, 2, 2, 2, 2, 2, 2, 2, 2, 2, 2, 2, 2, 2, 2, 2, 2, 2, 2, 2, 2, 2, 2, 2, 2, 2, 2, 2, 2, 2, 2, 2, 2, 2, 2, 2, 2, 2, 2, 2, 2, 2, 2, 2, 2, 2, 2, 2, 2, 2, 2, 2, 2, 2, 2, 2, 2, 2, 2, 2, 2, 2, 2, 2, 2, 2, 2, 2, 2, 2, 2, 2, 2, 2, 2, 2, 2, 2, 2, 2, 2, 2, 2, 2, 2, 2, 2, 2, 2, 2, 2, 2, 2, 2, 2, 2, 2, 2, 2, 2, 2, 2, 2, 2, 2, 2, 2, 2, 2, 2, 2, 2, 2, 2, 2, 2, 2, 2, 2, 2, 2, 2, 2, 2, 2, 2, 2, 2, 2, 2, 2, 2, 2, 2, 2, 2, 2, 2, 2, 2, 2, 2, 2, 2, 2, 2, 2, 2, 2, 2, 2, 2, 2, 2, 2, 2, 2, 2, 2, 2, 2, 2, 2, 2, 2, 2, 2, 2, 2, 2, 2, 2, 2, 2, 2, 2, 2, 2, 2, 2, 2, 2, 2, 2, 2, 2, 2, 2, 2, 2, 2, 2, 2, 2, 2, 2, 2, 2, 2, 2, 2, 2, 2, 2, 2, 2, 2, 2, 2, 2, 2, 2, 2, 2, 2, 2, 2, 2, 2, 2, 2, 2, 2, 2, 2, 2, 2, 2, 2, 2, 2, 2, 2, 2, 2, 2, 2, 2, 2, 2, 2, 2, 2, 2, 2, 2, 2, 2, 2, 2, 2, 2, 2, 2, 2, 2, 2, 2, 2, 2, 2, 2, 2, 2, 2, 2, 2, 2, 2, 2, 2, 2, 2, 2, 2, 2, 2, 2, 2, 2, 2, 2, 2, 2, 2, 2, 2, 2, 2, 2, 2, 2, 2, 2, 2, 2, 2, 2, 2, 2, 2, 2, 2, 2, 2, 2, 2, 2, 2, 2, 2, 2, 2, 2, 2, 2, 2, 2, 2, 2, 2, 2, 2, 2, 2, 2, 2, 2, 2, 2, 2, 2, 2, 2, 2, 2, 2, 2, 2, 2, 2, 2, 2, 2, 2, 2, 2, 2, 2, 2, 2, 2, 2, 2, 2, 2, 2, 2, 2, 2, 2, 2, 2, 2, 2, 2, 2, 2, 2, 2, 2, 2, 2, 2, 2, 2, 2, 2, 2, 2, 2, 2, 2, 2, 2, 2, 2, 2, 2, 2, 2, 2, 2, 2, 2, 2, 2, 2, 2, 2, 2, 2, 2, 2, 2, 2, 2, 2, 2, 2, 2, 2, 2, 2, 2, 2, 2, 2, 2, 2, 2, 2, 2, 2, 2, 2, 2, 2, 2, 2, 2, 2, 2, 2, 2, 2, 2, 2, 2, 2, 2, 2, 2, 2, 2, 2, 2, 2, 2, 2, 2, 2, 2, 2, 2, 2, 2, 2, 2, 2, 2, 2, 2, 2, 2, 2, 2, 2, 2, 2, 2, 2, 2, 2, 2, 2, 2, 2, 2, 2, 2, 2, 2, 2, 2, 2, 2, 2, 2, 2, 2, 2, 2, 2, 2, 2, 2, 2, 2, 2, 2, 2, 2, 2, 2, 2, 2, 2, 2, 2, 2, 2, 2, 2, 2, 2, 2, 2, 2, 2, 2, 2, 2, 2, 2, 2, 2, 2, 2, 2, 2, 2, 2, 2, 2, 2, 2, 2, 2, 2, 2, 2, 2, 2, 2, 2, 2, 2, 2, 2, 2, 2, 2, 2, 2, 2, 2, 2, 2, 2, 2, 2, 2, 2, 2, 2, 2, 2, 2, 2, 2, 2, 2, 2, 2, 2, 2, 2, 2, 2, 2, 2, 2, 2, 2, 2, 2, 2, 2, 2, 2, 2, 2, 2, 2, 2, 2, 2, 2, 2, 2, 2, 2, 2, 2, 2, 2, 2, 2, 2, 2, 2, 2, 2, 2, 2, 2, 2, 2, 2, 2, 2, 2, 2, 2, 2, 2, 2, 2, 2, 2, 2, 2, 2, 2, 2, 2, 2, 2, 2, 2, 2, 2, 2, 2, 2, 2, 2, 2, 2, 2, 2, 2, 2, 2, 2, 2, 2, 2, 2, 2, 2, 2, 2, 2, 2, 2, 2, 2, 2, 2, 2, 2, 2, 2, 2, 2, 2, 2, 2, 2, 2, 2, 2, 2, 2, 2, 2, 2, 2, 2, 2, 2, 2, 2, 2, 2, 2, 2, 2, 2, 2, 2, 2, 2, 2, 2, 2, 2, 2, 2, 2, 2, 2, 2, 2, 2, 2, 2, 2, 2, 2, 2, 2, 2, 2, 2, 2, 2, 2, 2, 2, 2, 2, 2, 2, 2, 2, 2, 2, 2, 2, 2, 2, 2, 2, 2, 2, 2, 2, 2, 2, 2, 2, 2, 2, 2, 2, 2, 2, 2, 2, 2, 2, 2, 2, 2, 2, 2, 2, 2, 2, 2, 2, 2, 2, 2, 2, 2, 2, 2, 2, 2, 2, 2, 2, 2, 2, 2, 2, 2, 2, 2, 2, 2, 2, 2, 2, 2, 2, 2, 2, 2, 2, 2, 2, 2, 2, 2, 2, 2, 2, 2, 2, 2, 2, 2, 2, 2, 2, 2, 2, 2, 2, 2, 2, 2, 2, 2, 2, 2, 2, 2, 2, 2, 2, 2, 2, 2, 2, 2, 2, 2, 2, 2, 2, 2, 2, 2, 2, 2, 2, 2, 2, 2, 2, 2, 2, 2, 2, 2, 2, 2, 2, 2, 2, 2, 2, 2, 2, 2, 2, 2, 2, 2, 2, 2, 2, 2, 2, 2, 2, 2, 2, 2, 2, 2, 2, 2, 2, 2, 2, 2, 2, 2, 2, 2, 2, 2, 2, 2, 2, 2, 2, 2, 2, 2, 2, 2, 2, 2, 2, 2, 2, 2, 2, 2, 2, 2, 2, 2, 2, 2, 2, 2, 2, 2, 2, 2, 2, 2, 2, 2, 2, 2, 2, 2, 2, 2, 2, 2, 2, 2, 2, 2, 2, 2, 2, 2, 2, 2, 2, 2, 2, 2, 2, 2, 2, 2, 2, 2, 2, 2, 2, 2, 2, 2, 2, 2, 2, 2, 2, 2, 2, 2, 2, 2, 2, 2, 2, 2, 2, 2, 2, 2, 2, 2, 2, 2, 2, 2, 2, 2, 2, 2, 2, 2, 2, 2, 2, 2, 2, 2, 2, 2, 2, 2, 2, 2, 2, 2, 2, 2, 2, 2, 2, 2, 2, 1, 1, 1, 1, 1, 1, 1, 1, 1, 1, 1, 1, 1, 1, 1, 1, 1, 1, 1, 1, 1, 1, 1, 1, 1, 1, 1, 1, 1, 1, 1, 1, 1, 1, 1, 1, 1, 1, 1, 1, 1, 1, 1, 1, 1, 1, 1, 1, 1, 1, 1, 1, 1, 1, 1, 1, 1, 1, 1, 1, 1, 1, 1, 1, 1, 1, 1, 1, 1, 1, 1, 1, 1, 1, 1, 1, 1, 1, 1, 1, 1, 1, 1, 1, 1, 1, 1, 1, 1, 1, 1, 1, 1, 1, 1, 1, 1, 1, 1, 1, 1, 1, 1, 1, 1, 1, 1, 1, 1, 1, 1, 1, 1, 1, 1, 1, 1, 1, 1, 1, 1, 1, 1, 1, 1, 1, 1, 1, 1, 1, 1, 1, 1, 1, 1, 1, 1, 1, 1, 1, 1, 1, 1, 1, 1, 1, 1, 1, 1, 1, 1, 1, 1, 1, 1, 1, 1, 1, 1, 1, 1, 1, 1, 1, 1, 1, 1, 1, 1, 1, 1, 1, 1, 1, 1, 1, 1, 1, 1, 1, 1, 1, 1, 1, 1, 1, 1, 1, 1, 1, 1, 1, 1, 1, 1, 1, 1, 1, 1, 1, 1, 1, 1, 1, 1, 1, 1, 1, 1, 1, 1, 1, 1, 1, 1, 1, 1, 1, 1, 1, 1, 1, 1, 1, 1, 1, 1, 1, 1, 1, 1, 1, 1, 1, 1, 1, 1, 1, 1, 1, 1, 1, 1, 1, 1, 1, 1, 1, 1, 1, 1, 1, 1, 1, 1, 1, 1, 1, 1, 1, 1, 1, 1, 1, 1, 1, 1, 1, 1, 1, 1, 1, 1, 1, 1, 1, 1, 1, 1, 1, 1, 1, 1, 1, 1, 1, 1, 1, 1, 1, 1, 1, 1, 1, 1, 1, 1, 1, 1, 1, 1, 1, 1, 1, 1, 1, 1, 1, 1, 1, 1, 1, 1, 1, 1, 1, 1, 1, 1, 1, 1, 1, 1, 1, 1, 1, 1, 1, 1, 1, 1, 1, 1, 1, 1, 1, 1, 1, 1, 1, 1, 1, 1, 1, 1, 1, 1, 1, 1, 1, 1, 1, 1, 1, 1, 1, 1, 1, 1, 1, 1, 1, 1, 1, 1, 1, 1, 1, 1, 1, 1, 1, 1, 1, 1, 1, 1, 1, 1, 1, 1, 1, 1, 1, 1, 1, 1, 1, 1, 1, 1, 1, 1, 1, 1, 1, 1, 1, 1, 1, 1, 1, 1, 1, 1, 1, 1, 1, 1, 1, 1, 1, 1, 1, 1, 1, 1, 1, 1, 1, 1, 1, 1, 1, 1, 1, 1, 1, 1, 1, 1, 1, 1, 1, 1, 1, 1, 1, 1, 1, 1, 1, 1, 1, 1, 1, 1, 1, 1, 1, 1, 1, 1, 1, 1, 1, 1, 1, 1, 1, 1, 1, 1, 1, 1, 1, 1, 1, 1, 1, 1, 1, 1, 1, 1, 1, 1, 1, 1, 1, 1, 1, 1, 1, 1, 1, 1, 1, 1, 1, 1, 1, 1, 1, 1, 1, 1, 1, 1, 1, 1, 1, 1, 1, 1, 1, 1, 1, 1, 1, 1, 1, 1, 1, 1, 1, 1, 1, 1, 1, 1, 1, 1, 1, 1, 1, 1, 1, 1, 1, 1, 1, 1, 1, 1, 1, 1, 1, 1, 1, 1, 1, 1, 1, 1, 1, 1, 1, 1, 1, 1, 1, 1, 1, 1, 1, 1, 1, 1, 1, 1, 1, 1, 1, 1, 1, 1, 1, 1, 1, 1, 1, 1, 1, 1, 1, 1, 1, 1, 1, 1, 1, 1, 1, 1, 1, 1, 1, 1, 1, 1, 1, 1, 1, 1, 1, 1, 1, 1, 1, 1, 1, 1, 1, 1, 1, 1, 1, 1, 1, 1, 1, 1, 1, 1, 1, 1, 1, 1, 1, 1, 1, 1, 1, 1, 1, 1, 1, 1, 1, 1, 1, 1, 1, 1, 1, 1, 1, 1, 1, 1, 1, 1, 1, 1, 1, 1, 1, 1, 1, 1, 1, 1, 1, 1, 1, 1, 1, 1, 1, 1, 1, 1, 1, 1, 1, 1, 1, 1, 1, 1, 1, 1, 1, 1, 1, 1, 1, 1, 1, 1, 1, 1, 1, 1, 1, 1, 1, 1, 1, 1, 1, 1, 1, 1, 1, 1, 1, 1, 1, 1, 1, 1, 1, 1, 1, 1, 1, 1, 1, 1, 1, 1, 1, 1, 1, 1, 1, 1, 1, 1, 1, 1, 1, 1, 1, 1, 1, 1, 1, 1, 1, 1, 1, 1, 1, 1, 1, 1, 1, 1, 1, 1, 1, 1, 1, 1, 1, 1, 1, 1, 1, 1, 1, 1, 1, 1, 1, 1, 1, 1, 1, 1, 1, 1, 1, 1, 1, 1, 1, 1, 1, 1, 1, 1, 1, 1, 1, 1, 1, 1, 1, 1, 1, 1, 1, 1, 1, 1, 1, 1, 1, 1, 1, 1, 1, 1, 1, 1, 1, 1, 1, 1, 1, 1, 1, 1, 1, 1, 1, 1, 1, 1, 1, 1, 1, 1, 1, 1, 1, 1, 1, 1, 1, 1, 1, 1, 1, 1, 1, 1, 1, 1, 1, 1, 1, 1, 1, 1, 1, 1, 1, 1, 1, 1, 1, 1, 1, 1, 1, 1, 1, 1, 1, 1, 1, 1, 1, 1, 1, 1, 1, 1, 1, 1, 1, 1, 1, 1, 1, 1, 1, 1, 1, 1, 1, 1, 1, 1, 1, 1, 1, 1, 1, 1, 1, 1, 1, 1, 1, 1, 1, 1, 1, 1, 1, 1, 1, 1, 1, 1, 1, 1, 1, 1, 1, 1, 1, 1, 1, 1, 1, 1, 1, 1, 1, 1, 1, 1, 1, 1, 1, 1, 1, 1, 1, 1, 1, 1, 1, 1, 1, 1, 1, 1, 1, 1, 1, 1, 1, 1, 1, 1, 1, 1, 1, 1, 1, 1, 1, 1, 1, 1, 1, 1, 1, 1, 1, 1, 1, 1, 1, 1, 1, 1, 1, 1, 1, 1, 1, 1, 1, 1, 1, 1, 1, 1, 1, 1, 1, 1, 1, 1, 1, 1, 1, 1, 1, 1, 1, 1, 1, 1, 1, 1, 1, 1, 1, 1, 1, 1, 1, 1, 1, 1, 1, 1, 1, 1, 1, 1, 1, 1, 1, 1, 1, 1, 1, 1, 1, 1, 1, 1, 1, 1, 1, 1, 1, 1, 1, 1, 1, 1, 1, 1, 1, 1, 1, 1, 1, 1, 1, 1, 1, 1, 1, 1, 1, 1, 1, 1, 1, 1, 1, 1, 1, 1, 1, 1, 1, 1, 1, 1, 1, 1, 1, 1, 1, 1, 1, 1, 1, 1, 1, 1, 1, 1, 1, 1, 1, 1, 1, 1, 1, 1, 1, 1, 1, 1, 1, 1, 1, 1, 1, 1, 1, 1, 1, 1, 1, 1, 1, 1, 1, 1, 1, 1, 1, 1, 1, 1, 1, 1, 1, 1, 1, 1, 1, 1, 1, 1, 1, 1, 1, 1, 1, 1, 1, 1, 1, 1, 1, 1, 1, 1, 0, 0, 0, 0, 0, 0, 0, 0, 0, 0, 0, 0, 0, 0, 0, 0, 0, 0, 0, 0, 0, 0, 0, 0, 0, 0, 0, 0, 0, 0, 0, 0, 0, 0, 0, 0, 0, 0, 0, 0, 0, 0, 0, 0, 0, 0, 0, 0, 0, 0, 0, 0, 0, 0, 0, 0, 0, 0, 0, 0, 0, 0, 0, 0, 0, 0, 0, 0, 0, 0, 0, 0, 0, 0, 0, 0, 0, 0, 0, 0, 0, 0, 0, 0, 0, 0, 0, 0, 0, 0, 0, 0, 0, 0, 0, 0, 0, 0, 0, 0, 0, 0, 0, 0, 0, 0, 0, 0, 0, 0, 0, 0, 0, 0, 0, 0, 0, 0, 0, 0, 0, 0, 0, 0, 0, 0, 0, 0, 0, 0, 0, 0, 0, 0, 0, 0, 0, 0, 0, 0, 0, 0, 0, 0, 0, 0, 0, 0, 0, 0, 0, 0, 0, 0, 0, 0, 0, 0, 0, 0, 0, 0, 0, 0, 0, 0, 0, 0, 0, 0, 0, 0, 0, 0, 0, 0, 0, 0, 0, 0, 0, 0, 0, 0, 0, 0, 0, 0, 0, 0, 0, 0, 0, 0, 0, 0, 0, 0, 0, 0, 0, 0, 0, 0, 0, 0, 0, 0, 0, 0, 0, 0, 0, 0, 0, 0, 0, 0, 0, 0, 0, 0, 0, 0, 0, 0, 0, 0, 0, 0, 0, 0, 0, 0, 0, 0, 0, 0, 0, 0, 0, 0, 0, 0, 0, 0, 0, 0, 0, 0, 0, 0, 0, 0, 0, 0, 0, 0, 0, 0, 0, 0, 0, 0, 0, 0, 0, 0, 0, 0, 0, 0, 0, 0, 0, 0, 0, 0, 0, 0, 0, 0, 0, 0, 0, 0, 0, 0, 0, 0, 0, 0, 0, 0, 0, 0, 0, 0, 0, 0, 0, 0, 0, 0, 0, 0, 0, 0, 0, 0, 0, 0, 0, 0, 0, 0, 0, 0, 0, 0, 0, 0, 0, 0, 0, 0, 0, 0, 0, 0, 0, 0, 0, 0, 0, 0, 0, 0, 0, 0, 0, 0, 0, 0, 0, 0, 0, 0, 0, 0, 0, 0, 0, 0, 0, 0, 0, 0, 0, 0, 0, 0, 0, 0, 0, 0, 0, 0, 0, 0, 0, 0, 0, 0, 0, 0, 0, 0, 0, 0, 0, 0, 0, 0, 0, 0, 0, 0, 0, 0, 0, 0, 0, 0, 0, 0, 0, 0, 0, 0, 0, 0, 0, 0, 0, 0, 0, 0, 0, 0, 0, 0, 0, 0, 0, 0, 0, 0, 0, 0, 0, 0, 0, 0, 0, 0, 0, 0, 0, 0, 0, 0, 0, 0, 0, 0, 0, 0, 0, 0, 0, 0, 0, 0, 0, 0, 0, 0, 0, 0, 0, 0, 0, 0, 0, 0, 0, 0, 0, 0, 0, 0, 0, 0, 0, 0, 0, 0, 0, 0, 0, 0, 0, 0, 0, 0, 0, 0, 0, 0, 0, 0, 0, 0, 0, 0, 0, 0, 0, 0, 0, 0, 0, 0, 0, 0, 0, 0, 0, 0, 0, 0, 0, 0, 0, 0, 0, 0, 0, 0, 0, 0, 0, 0, 0, 0, 0, 0, 0, 0, 0, 0, 0, 0, 0, 0, 0, 0, 0, 0, 0, 0, 0, 0, 0, 0, 0, 0, 0, 0, 0, 0, 0, 0, 0, 0, 0, 0, 0, 0, 0, 0, 0, 0, 0, 0, 0, 0, 0, 0, 0, 0, 0, 0, 0, 0, 0, 0, 0, 0, 0, 0, 0, 0, 0, 0, 0, 0, 0, 0, 0, 0, 0, 0, 0, 0, 0, 0, 0, 0, 0, 0, 0, 0, 0, 0, 0, 0, 0, 0, 0, 0, 0, 0, 0, 0, 0, 0, 0, 0, 0, 0, 0, 0, 0, 0, 0, 0, 0, 0, 0, 0, 0, 0, 0, 0, 0, 0, 0, 0, 0, 0, 0, 0, 0, 0, 0, 0, 0, 0, 0, 0, 0, 0, 0, 0, 0, 0, 0, 0, 0, 0, 0, 0, 0, 0, 0, 0, 0, 0, 0, 0, 0, 0, 0, 0, 0, 0, 0, 0, 0, 0, 0, 0, 0, 0, 0, 0, 0, 0, 0, 0, 0, 0, 0, 0, 0, 0, 0, 0, 0, 0, 0, 0, 0, 0, 0, 0, 0, 0, 0, 0, 0, 0, 0, 0, 0, 0, 0, 0, 0, 0, 0, 0, 0, 0, 0, 0, 0, 0, 0, 0, 0, 0, 0, 0, 0, 0, 0, 0, 0, 0, 0, 0, 0, 0, 0, 0, 0, 0, 0, 0, 0, 0, 0, 0, 0, 0, 0, 0, 0, 0, 0, 0, 0, 0, 0, 0, 0, 0, 0, 0, 0, 0, 0, 0, 0, 0, 0, 0, 0, 0, 0, 0, 0, 0, 0, 0, 0, 0, 0, 0, 0, 0, 0, 0, 0, 0, 0, 0, 0, 0, 0, 0, 0, 0, 0, 0, 0, 0, 0, 0, 0, 0, 0, 0, 0, 0, 0, 0, 0, 0, 0, 0, 0, 0, 0, 0, 0, 0, 0, 0, 0, 0, 0, 0, 0, 0, 0, 0, 0, 0, 0, 0, 0, 0, 0, 0, 0, 0, 0, 0, 0, 0, 0, 0, 0, 0, 0, 0, 0, 0, 0, 0, 0, 0, 0, 0, 0, 0, 0, 0, 0, 0, 0, 0, 0, 0, 0, 0, 0, 0, 0, 0, 0, 0, 0, 0, 0, 0, 0, 0, 0, 0, 0, 0, 0, 0, 0, 0, 0, 0, 0, 0, 0, 0, 0, 0, 0, 0, 0, 0, 0, 0, 0, 0, 0, 0, 0, 0, 0, 0, 0, 0, 0, 0, 0, 0, 0, 0, 0, 0, 0, 0, 0, 0, 0, 0, 0, 0, 0, 0, 0, 0, 0, 0, 0, 0, 0, 0, 0, 0, 0, 0, 0, 0, 0, 0, 0, 0, 0, 0, 0, 0, 0, 0, 0, 0, 0, 0, 0, 0, 0, 0, 0, 0, 0, 0, 0, 0, 0, 0, 0, 0, 0, 0, 0, 0, 0, 0, \n",
            "0, 0, 0, 2, 0, 0, 0, 0, 0, 0, 2, 0, 0, 0, 0, 0, 0, 2, 2, 2, 0, 0, 0, 2, 0, 2, 0, 0, 0, 2, 2, 0, 2, 0, 2, 1, 0, 0, 2, 0, 0, 0, 0, 0, 0, 0, 2, 0, 0, 2, 0, 0, 0, 0, 2, 0, 0, 0, 0, 0, 0, 2, 0, 0, 2, 0, 0, 2, 0, 0, 0, 2, 2, 0, 2, 2, 0, 0, 0, 0, 2, 0, 0, 1, 0, 0, 0, 0, 0, 0, 0, 0, 2, 0, 0, 2, 0, 0, 0, 0, 2, 0, 2, 0, 0, 1, 0, 0, 0, 2, 0, 0, 2, 0, 2, 0, 0, 2, 0, 0, 2, 0, 2, 2, 2, 0, 2, 0, 2, 0, 0, 0, 2, 0, 2, 2, 0, 0, 2, 2, 0, 0, 2, 2, 0, 0, 0, 2, 0, 2, 0, 0, 0, 0, 0, 0, 0, 0, 2, 0, 0, 0, 2, 0, 2, 0, 2, 0, 2, 0, 0, 0, 0, 0, 0, 2, 0, 2, 0, 2, 2, 0, 0, 0, 0, 0, 0, 0, 0, 0, 2, 0, 2, 0, 0, 0, 0, 0, 0, 2, 0, 0, 2, 0, 0, 0, 0, 0, 2, 2, 0, 0, 0, 0, 0, 0, 0, 0, 0, 0, 2, 0, 0, 0, 2, 2, 0, 0, 0, 2, 0, 0, 0, 0, 0, 0, 0, 0, 0, 0, 0, 0, 0, 0, 0, 0, 0, 0, 0, 0, 0, 0, 0, 0, 2, 2, 0, 2, 0, 0, 0, 1, 0, 0, 0, 0, 0, 0, 2, 0, 0, 0, 0, 0, 1, 0, 0, 0, 0, 2, 2, 2, 0, 2, 2, 2, 0, 1, 0, 0, 2, 0, 0, 0, 0, 0, 0, 0, 0, 2, 0, 0, 2, 2, 0, 0, 0, 2, 2, 0, 0, 0, 0, 0, 0, 0, 2, 2, 0, 0, 0, 2, 0, 0, 0, 0, 0, 0, 1, 0, 2, 2, 0, 0, 2, 0, 2, 0, 2, 0, 0, 0, 0, 2, 2, 0, 0, 0, 0, 0, 0, 0, 0, 0, 0, 0, 2, 2, 0, 0, 0, 0, 0, 0, 2, 2, 0, 0, 0, 0, 0, 2, 0, 0, 2, 0, 0, 0, 2, 0, 2, 0, 2, 0, 0, 0, 0, 0, 0, 0, 2, 2, 0, 0, 2, 0, 0, 0, 0, 0, 0, 0, 0, 0, 0, 0, 0, 2, 0, 0, 0, 2, 2, 0, 2, 0, 0, 0, 0, 0, 2, 0, 0, 0, 0, 0, 0, 0, 0, 0, 2, 0, 0, 0, 0, 2, 2, 2, 0, 0, 0, 0, 0, 2, 0, 2, 0, 2, 0, 0, 0, 0, 0, 1, 2, 0, 0, 0, 0, 0, 2, 2, 0, 0, 0, 0, 0, 0, 0, 0, 0, 0, 0, 2, 2, 0, 2, 0, 2, 2, 0, 2, 0, 0, 0, 0, 0, 0, 0, 0, 0, 2, 0, 0, 0, 0, 0, 0, 2, 0, 2, 0, 0, 0, 0, 0, 2, 2, 0, 2, 0, 0, 0, 0, 0, 0, 0, 0, 0, 2, 0, 0, 0, 2, 0, 2, 2, 0, 0, 0, 0, 0, 0, 0, 0, 0, 0, 0, 0, 2, 0, 0, 0, 0, 0, 0, 2, 0, 2, 0, 0, 0, 0, 0, 0, 2, 0, 0, 2, 0, 0, 0, 0, 0, 0, 0, 0, 0, 0, 0, 2, 0, 0, 2, 0, 0, 0, 0, 0, 0, 0, 2, 0, 0, 2, 0, 0, 0, 2, 0, 0, 0, 0, 2, 0, 0, 0, 0, 0, 0, 0, 0, 0, 0, 0, 2, 0, 0, 0, 2, 0, 2, 2, 0, 0, 0, 0, 0, 0, 0, 0, 0, 0, 2, 2, 0, 0, 0, 0, 2, 0, 2, 0, 2, 0, 0, 0, 0, 2, 0, 0, 0, 0, 2, 0, 2, 1, 0, 2, 0, 1, 0, 2, 0, 0, 0, 2, 0, 2, 0, 0, 0, 0, 2, 0, 0, 0, 1, 0, 2, 0, 0, 0, 0, 0, 0, 0, 0, 2, 0, 0, 0, 0, 0, 0, 0, 1, 0, 0, 0, 0, 2, 0, 0, 2, 1, 0, 0, 0, 0, 0, 2, 0, 0, 0, 0, 2, 0, 0, 0, 0, 0, 0, 0, 0, 0, 0, 2, 0, 0, 2, 0, 1, 0, 0, 0, 0, 0, 0, 2, 0, 0, 2, 0, 2, 0, 0, 0, 2, 0, 0, 0, 2, 2, 0, 0, 0, 2, 2, 0, 0, 2, 2, 0, 0, 0, 0, 2, 0, 0, 0, 0, 2, 0, 0, 0, 0, 0, 0, 0, 2, 0, 2, 0, 0, 0, 0, 2, 0, 1, 1, 0, 0, 0, 0, 0, 2, 0, 0, 2, 0, 0, 2, 0, 0, 2, 2, 0, 0, 0, 2, 0, 0, 0, 0, 0, 2, 2, 0, 0, 2, 2, 0, 0, 0, 0, 0, 0, 0, 2, 0, 0, 0, 0, 0, 2, 0, 0, 0, 2, 0, 2, 0, 0, 0, 0, 0, 0, 0, 0, 2, 0, 0, 0, 0, 0, 0, 2, 0, 0, 0, 0, 0, 0, 0, 0, 2, 0, 2, 0, 0, 0, 0, 0, 2, 2, 0, 0, 2, 0, 0, 0, 0, 0, 0, 0, 0, 0, 0, 0, 0, 0, 0, 0, 0, 0, 2, 0, 0, 0, 0, 0, 0, 0, 2, 0, 0, 0, 0, 0, 2, 2, 0, 0, 2, 0, 0, 0, 0, 0, 0, 0, 0, 2, 0, 2, 0, 2, 0, 0, 0, 0, 2, 0, 2, 2, 0, 2, 2, 2, 0, 2, 0, 0, 2, 0, 0, 0, 0, 0, 0, 0, 0, 0, 0, 2, 2, 0, 0, 0, 0, 0, 0, 0, 0, 0, 2, 0, 2, 0, 0, 1, 0, 0, 2, 2, 2, 2, 0, 0, 0, 0, 0, 0, 0, 2, 0, 0, 0, 0, 0, 0, 0, 0, 0, 0, 0, 0, 0, 0, 0, 0, 0, 0, 1, 0, 0, 2, 0, 0, 0, 0, 0, 0, 2, 0, 0, 0, 0, 0, 0, 2, 2, 2, 2, 0, 0, 0, 0, 1, 2, 0, 0, 0, 0, 0, 0, 2, 2, 1, 0, 0, 1, 1, 1, 1, 1, 1, 1, 1, 1, 1, 1, 1, 1, 1, 1, 1, 1, 1, 1, 1, 1, 1, 1, 1, 1, 1, 1, 1, 1, 1, 1, 1, 1, 1, 1, 1, 1, 1, 1, 1, 1, 1, 1, 1, 1, 1, 1, 1, 1, 1, 1, 1, 1, 1, 1, 1, 1, 1, 1, 1, 1, 1, 1, 1, 1, 1, 1, 1, 1, 1, 1, 1, 1, 1, 1, 1, 1, 1, 1, 1, 1, 1, 1, 1, 1, 1, 1, 1, 1, 1, 1, 1, 1, 1, 1, 1, 1, 1, 1, 1, 1, 1, 1, 1, 1, 1, 1, 1, 1, 1, 1, 1, 1, 1, 1, 1, 1, 1, 1, 1, 1, 1, 1, 1, 1, 1, 1, 1, 1, 1, 1, 1, 1, 1, 1, 1, 1, 1, 1, 1, 1, 1, 1, 1, 1, 1, 1, 1, 1, 1, 1, 1, 1, 1, 1, 1, 1, 1, 1, 1, 1, 1, 1, 1, 1, 1, 1, 1, 1, 1, 1, 1, 1, 1, 1, 1, 1, 1, 1, 1, 1, 1, 1, 1, 1, 1, 1, 1, 1, 1, 1, 1, 1, 1, 1, 1, 1, 1, 1, 1, 1, 1, 1, 1, 1, 1, 1, 1, 1, 1, 1, 1, 1, 1, 1, 1, 1, 1, 1, 1, 1, 1, 1, 1, 1, 1, 1, 1, 1, 1, 1, 1, 1, 1, 1, 1, 1, 1, 1, 1, 1, 1, 1, 1, 1, 1, 1, 1, 1, 1, 1, 1, 1, 1, 1, 1, 1, 1, 1, 1, 1, 1, 1, 1, 1, 1, 1, 1, 1, 1, 1, 1, 1, 1, 1, 1, 1, 1, 1, 1, 1, 1, 1, 1, 1, 1, 1, 1, 1, 1, 1, 1, 1, 1, 1, 1, 1, 1, 1, 1, 1, 1, 1, 1, 1, 1, 1, 1, 1, 1, 1, 1, 1, 1, 1, 1, 1, 1, 1, 1, 1, 1, 1, 1, 1, 1, 1, 1, 1, 1, 1, 1, 1, 1, 1, 1, 1, 1, 1, 1, 1, 1, 1, 1, 1, 1, 1, 1, 1, 1, 1, 1, 1, 1, 1, 1, 1, 1, 1, 1, 1, 1, 1, 1, 1, 1, 1, 1, 1, 1, 1, 1, 1, 1, 1, 1, 1, 1, 1, 1, 1, 1, 1, 1, 1, 1, 1, 1, 1, 1, 1, 1, 1, 1, 1, 1, 1, 1, 1, 1, 1, 1, 1, 1, 1, 1, 1, 1, 1, 1, 1, 1, 1, 1, 1, 1, 1, 1, 1, 1, 1, 1, 1, 1, 1, 1, 1, 1, 1, 1, 1, 1, 1, 1, 1, 1, 1, 1, 1, 1, 1, 1, 1, 1, 1, 1, 1, 1, 1, 1, 1, 1, 1, 1, 1, 1, 1, 1, 1, 1, 1, 1, 1, 1, 1, 1, 1, 1, 1, 1, 1, 1, 1, 1, 1, 1, 1, 1, 1, 1, 1, 1, 1, 1, 1, 1, 1, 1, 1, 1, 1, 1, 1, 1, 1, 1, 1, 1, 1, 1, 1, 1, 1, 1, 1, 1, 1, 1, 1, 1, 1, 1, 1, 1, 1, 1, 1, 1, 1, 1, 1, 1, 1, 1, 1, 1, 1, 1, 1, 1, 1, 1, 1, 1, 1, 1, 1, 1, 1, 1, 1, 1, 1, 1, 1, 1, 1, 1, 1, 1, 1, 1, 1, 1, 1, 1, 1, 1, 1, 1, 1, 1, 1, 1, 1, 1, 1, 1, 1, 1, 1, 1, 1, 1, 1, 1, 1, 1, 1, 1, 1, 1, 1, 1, 1, 1, 1, 1, 1, 1, 1, 1, 1, 1, 1, 1, 1, 1, 1, 1, 1, 1, 1, 1, 1, 1, 1, 1, 1, 1, 1, 1, 1, 1, 1, 1, 1, 1, 1, 1, 1, 1, 1, 1, 1, 1, 1, 1, 1, 1, 1, 1, 1, 1, 1, 1, 1, 1, 1, 1, 1, 1, 1, 1, 1, 1, 1, 1, 1, 1, 1, 1, 1, 1, 1, 1, 1, 1, 1, 1, 1, 1, 1, 1, 1, 1, 1, 1, 1, 1, 1, 1, 1, 1, 1, 1, 1, 1, 1, 1, 1, 1, 1, 1, 1, 1, 1, 1, 1, 1, 1, 1, 1, 1, 1, 1, 1, 1, 1, 1, 1, 1, 1, 1, 1, 1, 1, 1, 1, 1, 1, 1, 1, 1, 1, 1, 1, 1, 1, 1, 1, 1, 1, 1, 1, 1, 1, 1, 1, 1, 1, 1, 1, 1, 1, 1, 1, 1, 1, 1, 1, 1, 1, 1, 1, 1, 1, 1, 1, 1, 1, 1, 1, 1, 1, 1, 1, 1, 1, 1, 1, 1, 1, 1, 1, 1, 1, 1, 1, 1, 1, 1, 1, 1, 1, 1, 1, 1, 1, 1, 1, 1, 1, 1, 1, 1, 1, 1, 1, 1, 1, 1, 1, 1, 1, 1, 1, 1, 1, 1, 1, 1, 1, 1, 1, 1, 1, 1, 1, 1, 1, 1, 1, 1, 1, 1, 1, 1, 1, 1, 1, 1, 1, 1, 1, 1, 1, 1, 1, 1, 1, 1, 1, 1, 1, 1, 1, 1, 1, 1, 1, 1, 1, 1, 1, 1, 1, 1, 1, 1, 1, 1, 1, 1, 1, 1, 1, 1, 1, 1, 1, 1, 1, 1, 1, 1, 1, 1, 1, 1, 1, 1, 1, 1, 1, 1, 1, 1, 1, 1, 1, 1, 1, 1, 1, 1, 1, 1, 1, 1, 1, 1, 1, 1, 1, 1, 1, 1, 1, 1, 1, 1, 1, 1, 1, 1, 1, 1, 1, 1, 1, 1, 1, 1, 1, 1, 1, 1, 1, 1, 1, 1, 1, 1, 1, 1, 1, 1, 1, 1, 1, 1, 1, 1, 1, 1, 1, 1, 1, 1, 1, 1, 1, 1, 1, 1, 1, 1, 1, 1, 1, 1, 1, 1, 1, 1, 1, 1, 1, 1, 1, 1, 1, 1, 1, 1, 1, 1, 1, 1, 1, 1, 1, 1, 1, 1, 1, 1, 1, 1, 1, 1, 1, 1, 1, 1, 1, 1, 1, 1, 1, 1, 1, 1, 1, 1, 1, 1, 1, 1, 1, 1, 1, 1, 1, 1, 1, 1, 1, 1, 1, 1, 1, 1, 1, 1, 1, 1, 1, 1, 1, 1, 1, 1, 1, 1, 1, 1, 1, 1, 1, 1, 1, 1, 1, 1, 1, 1, 1, 1, 1, 1, 1, 1, 1, 1, 1, 1, 1, 1, 1, 1, 1, 1, 1, 1, 1, 1, 1, 1, 1, 1, 1, 1, 1, 1, 1, 1, 1, 1, 1, 1, 1, 1, 1, 1, 1, 1, 1, 1, 1, 1, 1, 1, 1, 1, 1, 1, 1, 1, 1, 1, 1, 1, 1, 1, 1, 1, 1, 1, 1, 1, 1, 1, 1, 1, 1, 1, 1, 1, 1, 1, 1, 1, 1, 1, 1, 1, 1, 1, 1, 1, 1, 1, 1, 1, 1, 1, 1, 1, 1, 1, 1, 1, 1, 1, 1, 1, 1, 1, 1, 1, 1, 1, 1, 1, 1, 1, 1, 1, 1, 1, 1, 1, 1, 1, 1, 1, 1, 1, 1, 1, 1, 1, 1, 1, 1, 1, 1, 1, 1, 1, 1, 1, 1, 1, 1, 1, 1, 1, 1, 1, 1, 1, 1, 1, 1, 1, 1, 1, 1, 1, 1, 1, 1, 1, 1, 1, 1, 1, 1, 1, 1, 1, 1, 1, 1, 1, 1, 1, 1, 1, 1, 1, 1, 1, 1, 1, 1, 1, 1, 1, 1, 1, 1, 1, 1, 1, 1, 1, 1, 1, 1, 1, 1, 1, 1, 1, 1, 1, 1, 1, 1, 1, 1, 1, 1, 1, 1, 1, 1, 1, 1, 1, 1, 1, 1, 1, 1, 1, 1, 1, 1, 1, 1, 1, 1, 1, 1, 1, 1, 1, 1, 1, 1, 1, 1, 1, 1, 1, 1, 1, 1, 1, 1, 1, 1, 1, 1, 1, 1, 1, 1, 1, 1, 1, 1, 1, 1, 1, 1, 1, 1, 1, 1, 1, 1, 1, 1, 1, 1, 1, 1, 1, 1, 1, 1, 1, 1, 1, 1, 1, 1, 1, 1, 1, 1, 1, 1, 1, 1, 1, 1, 1, 1, 1, 1, 1, 1, 1, 1, 1, 1, 1, 1, 1, 1, 1, 1, 1, 1, 1, 1, 1, 1, 1, 1, 1, 1, 1, 1, 1, 1, 1, 1, 1, 1, 1, 1, 1, 1, 1, 1, 1, 1, 1, 1, 1, 1, 1, 1, 1, 1, 1, 1, 1, 1, 1, 1, 1, 1, 1, 1, 1, 1, 1, 1, 1, 1, 1, 1, 1, 1, 1, 1, 1, 1, 1, 1, 1, 1, 1, 1, 1, 1, 1, 1, 1, 1, 1, 1, 1, 1, 1, 1, 1, 1, 1, 1, 1, 1, 1, 1, 1, 1, 1, 1, 1, 1, 1, 1, 1, 1, 1, 1, 1, 1, 1, 1, 1, 1, 1, 1, 1, 1, 1, 1, 1, 1, 1, 1, 1, 1, 1, 1, 1, 1, 1, 1, 1, 1, 1, 1, 1, 1, 1, 1, 1, 1, 1, 1, 1, 1, 1, 1, 1, 1, 1, 1, 1, 1, 1, 1, 1, 1, 1, 1, 1, 1, 1, 1, 1, 1, 1, 1, 1, 1, 1, 1, 1, 1, 1, 1, 1, 1, 1, 1, 1, 1, 1, 1, 1, 1, 1, 1, 1, 1, 1, 1, 1, 1, 1, 1, 1, 1, 1, 1, 1, 1, 1, 1, 1, 1, 1, 1, 1, 1, 1, 1, 1, 1, 1, 1, 1, 1, 1, 1, 1, 1, 1, 1, 1, 1, 1, 1, 1, 1, 1, 1, 1, 1, 1, 1, 1, 1, 1, 1, 1, 1, 1, 1, 1, 1, 1, 1, 1, 1, 1, 1, 1, 1, 1, 1, 1, 1, 1, 1, 1, 1, 1, 1, 1, 1, 1, 1, 1, 1, 1, 1, 1, 1, 1, 1, 1, 1, 1, 1, 1, 1, 1, 1, 1, 1, 1, 1, 1, 1, 1, 1, 1, 1, 1, 1, 1, 1, 1, 1, 1, 1, 1, 1, 1, 1, 1, 1, 1, 1, 1, 1, 1, 1, 1, 1, 1, 1, 1, 1, 1, 1, 1, 1, 1, 1, 1, 1, 1, 1, 1, 1, 1, 1, 1, 1, 1, 1, 1, 1, 1, 1, 1, 1, 1, 1, 1, 1, 1, 1, 1, 1, 1, 1, 1, 1, 1, 1, 1, 1, 1, 1, 1, 1, 1, 1, 1, 1, 1, 1, 1, 1, 1, 1, 1, 1, 1, 1, 1, 1, 1, 1, 1, 1, 1, 1, 1, 1, 1, 1, 1, 1, 1, 1, 1, 1, 1, 1, 1, 1, 1, 1, 1, 1, 1, 1, 1, 1, 1, 1, 1, 1, 1, 1, 1, 1, 1, 1, 1, 1, 1, 1, 1, 1, 1, 1, 1, 1, 1, 1, 1, 1, 1, 1, 1, 1, 1, 1, 1, 1, 1, 1, 1, 1, 1, 1, 1, 1, 1, 1, 1, 1, 1, 1, 1, 1, 1, 1, 1, 1, 1, 1, 1, 1, 1, 1, 1, 1, 1, 1, 1, 1, 1, 1, 1, 1, 1, 1, 1, 1, 1, 1, 1, 1, 1, 1, 1, 1, 1, 1, 1, 1, 1, 1, 1, 1, 1, 1, 1, 1, 1, 1, 1, 1, 1, 1, 1, 1, 1, 1, 1, 1, 1, 1, 1, 1, 1, 1, 1, 1, 1, 1, 1, 1, 1, 1, 1, 1, 1, 1, 1, 1, 1, 1, 1, 1, 1, 1, 1, 1, 1, 1, 1, 1, 1, 1, 1, 1, 1, 1, 1, 1, 1, 1, 1, 1, 1, 1, 1, 1, 1, 1, 1, 1, 1, 1, 1, 1, 1, 1, 1, 1, 1, 1, 1, 1, 1, 1, 1, 1, 1, 1, 1, 1, 1, 1, 1, 1, 1, 1, 1, 1, 1, 1, 1, 1, 1, 1, 1, 1, 1, 1, 1, 1, 1, 1, 1, 1, 1, 1, 1, 1, 1, 1, 1, 1, 1, 1, 1, 1, 1, 1, 1, 1, 1, 1, 1, 1, 1, 1, 1, 1, 1, 1, 1, 1, 1, 1, 1, 1, 1, 1, 1, 1, 1, 1, 1, 1, 1, 1, 1, 1, 1, 1, 1, 1, 1, 1, 1, 1, 1, 1, 1, 1, 1, 1, 1, 1, 1, 1, 1, 1, 1, 1, 1, 1, 1, 1, 1, 1, 1, 1, 1, 1, 1, 1, 1, 1, 1, 1, 1, 1, 1, 1, 1, 1, 1, 1, 1, 1, 1, 1, 1, 1, 1, 1, 1, 1, 1, 1, 1, 1, 1, 1, 1, 1, 1, 1, 1, 1, 1, 1, 1, 1, 1, 1, 1, 1, 1, 1, 1, 1, 1, 1, 1, 1, 1, 1, 1, 1, 1, 1, 1, 1, 1, 1, 1, 1, 1, 1, 1, 1, 1, 1, 1, 1, 1, 1, 1, 1, 1, 1, 1, 1, 1, 1, 1, 1, 1, 1, 1, 1, 1, 1, 1, 1, 1, 1, "
          ]
        }
      ]
    },
    {
      "cell_type": "markdown",
      "source": [
        "#Observations\n",
        "\n"
      ],
      "metadata": {
        "id": "iZzKhHbGimDD"
      }
    },
    {
      "cell_type": "markdown",
      "source": [
        "From images plotted above, it's observed that test set 1 is a subset of the training set (hence higher accuracy) and both sets contain numbers written in RGB colors on white background. Set 2 is the opposite where white numbers are written on colored background which isn't a part of training set (hence low accuracy). It also seems the network is learning colors by mapping it to numbers instead of numbers themselves."
      ],
      "metadata": {
        "id": "zvrBcK3xG0Ti"
      }
    },
    {
      "cell_type": "code",
      "source": [
        "# # Hyperparameter tuning using GridSearchCV\n",
        "# param_grid = {\n",
        "#     'hidden_layer_sizes': [(250, )],\n",
        "#     'activation': ['relu', 'tanh']\n",
        "# }\n",
        "\n",
        "# # Initialize and train the MLPClassifier\n",
        "# mlp = MLPClassifier(solver='sgd') #, max_iter=1000\n",
        "# grid_search = GridSearchCV(mlp, param_grid, cv=5, scoring='accuracy', verbose=5)\n",
        "\n",
        "# grid_search.fit(train_images_flat, train_digits)\n",
        "\n",
        "# # Print the best hyperparameters\n",
        "# print(\"Best hyperparameters:\", grid_search.best_params_)\n",
        "\n",
        "# # Evaluate on the first test set using the best model\n",
        "# best_model = grid_search\n",
        "# predictions_1 = best_model.predict(test_images_1_flat)\n",
        "# accuracy_1 = accuracy_score(test_digits_1, predictions_1)\n",
        "# print(\"Accuracy on test set 1:\", accuracy_1)\n",
        "\n",
        "# # Evaluate on the second test set using the best model\n",
        "# predictions_2 = best_model.predict(test_images_2_flat)\n",
        "# accuracy_2 = accuracy_score(test_digits_2, predictions_2)\n",
        "# print(\"Accuracy on test set 2:\", accuracy_2)"
      ],
      "metadata": {
        "id": "VjLNnGADlvoG"
      },
      "execution_count": 105,
      "outputs": []
    },
    {
      "cell_type": "code",
      "source": [
        "# # Hyperparameter tuning using GridSearchCV\n",
        "# param_grid = {\n",
        "#     'hidden_layer_sizes': [(50,), (100,), (200,), (50, 50), (100, 50)],\n",
        "#     'alpha': [0.0001, 0.001, 0.01, 0.1],\n",
        "#     'learning_rate_init': [0.0001, 0.001, 0.01, 0.1],\n",
        "#     'activation': ['relu', 'tanh']\n",
        "# }\n",
        "\n",
        "# # Initialize and train the MLPClassifier\n",
        "# mlp = MLPClassifier(solver='sgd') #, max_iter=1000\n",
        "# grid_search = GridSearchCV(mlp, param_grid, cv=5, scoring='accuracy', verbose=5)\n",
        "\n",
        "# # # Perform cross-validation on the training data\n",
        "# # kf = KFold(n_splits=10, shuffle=True, random_state=42)\n",
        "# # cv_scores = cross_val_score(mlp, train_images_flat, train_digits, cv=kf, scoring='accuracy')\n",
        "\n",
        "# # print(\"Cross-Validation Scores:\", cv_scores)\n",
        "# # print(\"Mean Accuracy:\", np.mean(cv_scores))\n",
        "\n",
        "# # mlp.fit(train_images_flat, train_digits)\n",
        "\n",
        "# # # Evaluate on the first test set\n",
        "# # predictions_1 = mlp.predict(test_images_1_flat)\n",
        "# # accuracy_1 = accuracy_score(test_digits_1, predictions_1)\n",
        "# # print(\"Accuracy on test set 1:\", accuracy_1)\n",
        "\n",
        "# # # Evaluate on the second test set\n",
        "# # predictions_2 = mlp.predict(test_images_2_flat)\n",
        "# # accuracy_2 = accuracy_score(test_digits_2, predictions_2)\n",
        "# # print(\"Accuracy on test set 2:\", accuracy_2)\n",
        "\n",
        "\n",
        "\n",
        "# grid_search.fit(train_images_flat, train_digits)\n",
        "\n",
        "# # Print the best hyperparameters\n",
        "# print(\"Best hyperparameters:\", grid_search.best_params_)\n",
        "# # Best hyperparameters: {'activation': 'tanh', 'alpha': 0.01, 'hidden_layer_sizes': (300,), 'learning_rate_init': 0.01}\n",
        "\n",
        "# # Evaluate on the first test set using the best model\n",
        "# best_model = grid_search\n",
        "# predictions_1 = best_model.predict(test_images_1_flat)\n",
        "# accuracy_1 = accuracy_score(test_digits_1, predictions_1)\n",
        "# print(\"Accuracy on test set 1:\", accuracy_1)\n",
        "\n",
        "# # Evaluate on the second test set using the best model\n",
        "# predictions_2 = best_model.predict(test_images_2_flat)\n",
        "# accuracy_2 = accuracy_score(test_digits_2, predictions_2)\n",
        "# print(\"Accuracy on test set 2:\", accuracy_2)"
      ],
      "metadata": {
        "id": "ut9SqdwqEkqW"
      },
      "execution_count": 106,
      "outputs": []
    },
    {
      "cell_type": "code",
      "source": [
        "# # Hyperparameter tuning using GridSearchCV\n",
        "# # param_grid = {\n",
        "# #     'hidden_layer_sizes': [(50,), (100,), (200,), (50, 50), (100, 50)],\n",
        "# #     'alpha': [0.0001, 0.001, 0.01, 0.1],\n",
        "# #     'learning_rate_init': [0.0001, 0.001, 0.01, 0.1],\n",
        "# #     'activation': ['relu', 'tanh']\n",
        "# # }\n",
        "# # param_grid = {\n",
        "# #     'hidden_layer_sizes': [(120,80,40)],\n",
        "# # }\n",
        "# param_grid = {\n",
        "#     'hidden_layer_sizes': [(9, 9)],\n",
        "# }\n",
        "# # Best hyperparameters: {'activation': 'relu', 'hidden_layer_sizes': (120, 80, 40), 'max_iter': 300}\n",
        "# # Initialize and train the MLPClassifier\n",
        "# mlp = MLPClassifier(solver='sgd')\n",
        "# grid_search = GridSearchCV(mlp, param_grid, scoring='accuracy', verbose=5)\n",
        "\n",
        "# # # Perform cross-validation on the training data\n",
        "# # kf = KFold(n_splits=10, shuffle=True, random_state=42)\n",
        "# # cv_scores = cross_val_score(mlp, train_images_flat, train_digits, cv=kf, scoring='accuracy')\n",
        "\n",
        "# # print(\"Cross-Validation Scores:\", cv_scores)\n",
        "# # print(\"Mean Accuracy:\", np.mean(cv_scores))\n",
        "\n",
        "# # mlp.fit(train_images_flat, train_digits)\n",
        "\n",
        "# # # Evaluate on the first test set\n",
        "# # predictions_1 = mlp.predict(test_images_1_flat)\n",
        "# # accuracy_1 = accuracy_score(test_digits_1, predictions_1)\n",
        "# # print(\"Accuracy on test set 1:\", accuracy_1)\n",
        "\n",
        "# # # Evaluate on the second test set\n",
        "# # predictions_2 = mlp.predict(test_images_2_flat)\n",
        "# # accuracy_2 = accuracy_score(test_digits_2, predictions_2)\n",
        "# # print(\"Accuracy on test set 2:\", accuracy_2)\n",
        "\n",
        "\n",
        "# # gray_train_images_flat, _, train_digits, _ = train_test_split(gray_train_images_flat, train_digits, test_size=0.000001, random_state=42)\n",
        "# grid_search.fit(gray_train_images_flat, train_digits)\n",
        "\n",
        "# # Print the best hyperparameters\n",
        "# print(\"Best hyperparameters:\", grid_search.best_params_)\n",
        "\n",
        "# # Evaluate on the first test set using the best model\n",
        "# best_model = grid_search\n",
        "# predictions_1 = best_model.predict(gray_test_images_1_flat)\n",
        "# accuracy_1 = accuracy_score(test_digits_1, predictions_1)\n",
        "# print(\"Accuracy on test set 1:\", accuracy_1)\n",
        "\n",
        "# # Evaluate on the second test set using the best model\n",
        "# predictions_2 = best_model.predict(gray_test_images_2_flat)\n",
        "# accuracy_2 = accuracy_score(test_digits_2, predictions_2)\n",
        "# print(\"Accuracy on test set 2:\", accuracy_2)"
      ],
      "metadata": {
        "id": "I_Jr0WzvCK_V"
      },
      "execution_count": 107,
      "outputs": []
    },
    {
      "cell_type": "code",
      "source": [
        "# for i in test_digits_2:\n",
        "#     print(i, end=', ')\n",
        "# print()\n",
        "# for i in predictions_2:\n",
        "#     print(i, end=', ')"
      ],
      "metadata": {
        "id": "PmSogG4Vf9Ro"
      },
      "execution_count": 108,
      "outputs": []
    }
  ],
  "metadata": {
    "colab": {
      "provenance": []
    },
    "kernelspec": {
      "display_name": "Python 3",
      "name": "python3"
    },
    "language_info": {
      "name": "python"
    }
  },
  "nbformat": 4,
  "nbformat_minor": 0
}